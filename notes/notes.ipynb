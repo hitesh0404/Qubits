{
 "cells": [
  {
   "cell_type": "code",
   "execution_count": null,
   "metadata": {},
   "outputs": [],
   "source": []
  },
  {
   "cell_type": "markdown",
   "metadata": {},
   "source": [
    "framework is a structured approach or a set of guidelines that helps organize and streamline tasks, processes, or projects. It provides a foundation and set of best practices to follow, making work more efficient and consistent. A framework can be used in various fields, such as project management, software development, education, and business operations. It serves as a blueprint that helps people achieve their goals more effectively by providing a clear path and predefined methods to follow.\n",
    "\n",
    "For example:\n",
    "\n",
    "Project Management Framework: This might include methodologies like Agile or Waterfall, providing steps and practices for planning, executing, and completing projects.\n",
    "Software Development Framework: Frameworks like React or Angular for web development help developers build applications by providing reusable code and components.\n",
    "Educational Framework: This could include curricula and teaching strategies that guide educators on how to deliver content and assess students."
   ]
  },
  {
   "cell_type": "markdown",
   "metadata": {},
   "source": [
    "step 1: start VsCode\n",
    "step 2: open project folder\n",
    "step 3: open terminal\n",
    "step 4: select cmd\n",
    "step 5: pip install virtualenv         \n",
    "step 6: virtualenv env              python -m venv env\n",
    "step 7: env\\Scripts\\activate\n",
    "step 8: pip install django\n",
    "step 9: django-admin startproject project_name\n",
    "step 10:cd  Project_name\n",
    "step 11:python manage.py startapp product\n",
    "step 12:add it to settings.py\n",
    "       \n",
    "INSTALLED_APPS = [\n",
    "    'django.contrib.admin',\n",
    "    'django.contrib.auth',\n",
    "    'django.contrib.contenttypes',\n",
    "    'django.contrib.sessions',\n",
    "    'django.contrib.messages',\n",
    "    'django.contrib.staticfiles',\n",
    "    'product'\n",
    "]\n",
    "\n",
    "step 13: go to main project folder's urls.py\n",
    "    path('',include(''product.urls'))\n",
    "step 14: add templates folder and make one more sub folder product\n",
    "step 15: make templates\n",
    "\n",
    "\n",
    "\n",
    "step 16: make model\n",
    "    class Product(models.Model):\n",
    "        \n",
    "\n",
    " anydesk\n",
    "pip freeze > requirements.txt\n",
    "pip install -r requirements.txt or -rg"
   ]
  },
  {
   "cell_type": "code",
   "execution_count": null,
   "metadata": {},
   "outputs": [],
   "source": []
  },
  {
   "cell_type": "markdown",
   "metadata": {},
   "source": [
    "# Django overview\n",
    "\n",
    "<h3>\n",
    "Django is a Python web framework that includes a set of components for solving common web development problems.\n",
    "\n",
    "Django allows you to rapidly develop web applications with less code by taking advantage of its framework.\n",
    "\n",
    "Django follows the DRY (don’t repeat yourself) principle, which allows you to maximize the code reusability.\n",
    "\n",
    "Django uses the MVT (Model-View-Template) pattern, which is slightly similar to the MVC (Model-View-Controller) pattern.\n",
    "\n",
    "The MVT pattern consists of three main components:\n",
    "\n",
    "* Model – defines the data or contains the logic that interacts with the data in the database.\n",
    "* View – communicates with the database via model and transfers data to the template for representing the data.\n",
    "* Template – defines the template for displaying the data in the web browser.\n",
    "The Django framework itself acts as a controller. The Django framework uses URL patterns that send the request to an appropriate view.\n",
    "\n",
    "If you are familiar with MVC, the following are equivalent:\n",
    "\n",
    "Template (T) is equivalent to View (V) in MVC\n",
    "View (V) is equivalent to Controller (C) in MVC\n",
    "Model (M) is equivalent to Model (M) in MVC\n",
    "In practice, you’ll often work with models, views, templates, and URLs in the Django application.\n",
    "\n",
    "Django architecture</h3>\n",
    "<img src=\"https://www.pythontutorial.net/wp-content/uploads/2022/11/Getting-Started-with-Django-django-framework.svg\">\n"
   ]
  },
  {
   "cell_type": "markdown",
   "metadata": {},
   "source": [
    "Django comes with a command-line utility program called django-admin that manages administrative tasks such as creating a new project and running the Django development server.\n"
   ]
  },
  {
   "cell_type": "code",
   "execution_count": null,
   "metadata": {},
   "outputs": [],
   "source": [
    "Type 'django-admin help <subcommand>' for help on a specific subcommand.\n",
    "\n",
    "Available subcommands:\n",
    "\n",
    "[django]\n",
    "    check\n",
    "    compilemessages\n",
    "    createcachetable\n",
    "    dbshell\n",
    "    diffsettings\n",
    "    dumpdata\n",
    "    flush\n",
    "    inspectdb\n",
    "    loaddata\n",
    "    makemessages\n",
    "    makemigrations\n",
    "    migrate\n",
    "    optimizemigration\n",
    "    runserver\n",
    "    sendtestemail\n",
    "    shell\n",
    "    showmigrations\n",
    "    sqlflush\n",
    "    sqlmigrate\n",
    "    sqlsequencereset\n",
    "    squashmigrations\n",
    "    startapp\n",
    "    startproject\n",
    "    test\n",
    "    testserver"
   ]
  },
  {
   "cell_type": "markdown",
   "metadata": {},
   "source": [
    "# Strat new project\n",
    "django-admin startproject django_project"
   ]
  },
  {
   "cell_type": "markdown",
   "metadata": {},
   "source": [
    "The following shows the django_project structure:\n",
    "<pre>\n",
    "├── django_project\n",
    "| ├── asgi.py\n",
    "| ├── settings.py\n",
    "| ├── urls.py\n",
    "| ├── wsgi.py\n",
    "| └── __init__.py\n",
    "└── manage.py\n",
    "</pre>\n",
    "Code language: plaintext (plaintext)\n",
    "Here’s a quick overview of each file in the Django project\n",
    "<li>manage.py is a command-line program that you use to interact with the project like starting a development server and making changes to the database.\n",
    "</li><br>\n",
    "<br>\n",
    "The django_project is a Python package that consists of the following files:\n",
    "<br>\n",
    "<li>\n",
    "__init__.py – is an empty file indicating that the django_project directory is a package.\n",
    "</li>\n",
    "<li>\n",
    "settings.py – contains the project settings such as installed applications, database connections, and template directories.\n",
    "</li>\n",
    "<li>\n",
    "urls.py – stores a list of routes that map URLs to views.\n",
    "</li>\n",
    "<li>\n",
    "wsgi.py – contains the configurations that run the project as a web server \n",
    "gateway interface (WSGI) application with WSGI-compatible web servers.\n",
    "</li>\n",
    "<li>\n",
    "asgi.py – contains the configurations that run the project as an asynchronous web server gateway interface (AWSGI) application with AWSGI-compatible web servers.\n",
    "</li>"
   ]
  },
  {
   "cell_type": "code",
   "execution_count": null,
   "metadata": {},
   "outputs": [],
   "source": [
    "python manage.py runserver"
   ]
  },
  {
   "cell_type": "markdown",
   "metadata": {},
   "source": [
    "# Django Create App\n",
    "### Django projects and applications\n",
    "\n",
    "<br>In the Django framework:\n",
    "\n",
    "* A project is a Django installation with some settings.\n",
    "* An application is a group of models, views, templates, and URLs.\n",
    "A Django project may have one or more applications. \n",
    "<img src=\"https://www.pythontutorial.net/wp-content/uploads/2022/11/django-project-and-apps.svg\">"
   ]
  },
  {
   "cell_type": "markdown",
   "metadata": {},
   "source": [
    "python manage.py startapp app_name"
   ]
  },
  {
   "cell_type": "markdown",
   "metadata": {},
   "source": [
    "# Registering an application\n",
    "After creating an application, you need to register it to the project especially when the application uses templates and interacts with a database.\n",
    "<br>\n",
    "* To register the app, you add the app_name.apps.App_nameConfig class to the INSTALLED_APPS list in the settings.py of the project:"
   ]
  },
  {
   "cell_type": "markdown",
   "metadata": {},
   "source": [
    "<pre>\n",
    "INSTALLED_APPS = [\n",
    "     # ...\n",
    "    'app_name.apps.App_nameConfig', or 'app_name'\n",
    "]\n",
    "</pre>\n",
    "\n"
   ]
  },
  {
   "cell_type": "markdown",
   "metadata": {},
   "source": [
    "### Creating a view"
   ]
  },
  {
   "cell_type": "markdown",
   "metadata": {},
   "source": [
    "* The views.py will contain all the views of the application. A view is a function that takes an HttpRequest object and returns an HttpResponse object. It’s equivalent to the controller in the MVC architecture.\n",
    "<br>\n",
    "* To create a new view, you import the HttpResponse from the django.http into the views.py file and define a new function that accepts an instance of the HttpRequest class:"
   ]
  },
  {
   "cell_type": "markdown",
   "metadata": {},
   "source": [
    "<pre>\n",
    "from django.shortcuts import render\n",
    "from django.http import HttpResponse\n",
    "\n",
    "\n",
    "def home(request):\n",
    "    return HttpResponse('Home')\n",
    "\n",
    "</pre>"
   ]
  },
  {
   "cell_type": "markdown",
   "metadata": {},
   "source": [
    "The home() function accepts an instance of an HttpRequest object and returns an HttpResponse object. It is called a function-based view. "
   ]
  },
  {
   "cell_type": "markdown",
   "metadata": {},
   "source": [
    "<br><br><br>\n",
    "To map a URL with the home() function, you create a new file urls.py inside the app_name directory and add the following code to the urls.py file:\n",
    "<br>\n",
    "<pre>\n",
    "from django.urls import path\n",
    "from . import views\n",
    "\n",
    "urlpatterns = [\n",
    "    path('', views.home, name='home'),\n",
    "]\n",
    "</pre>"
   ]
  },
  {
   "cell_type": "markdown",
   "metadata": {},
   "source": [
    "<br><br><br><br>\n",
    "\n",
    "To make the app_name routes work, you need to include the urls.py of the app_name application in the urls.py file of the Django project:"
   ]
  },
  {
   "cell_type": "markdown",
   "metadata": {},
   "source": [
    "<pre>\n",
    "from django.contrib import admin\n",
    "from django.urls import path, <b>include</b> # new\n",
    "\n",
    "\n",
    "urlpatterns = [\n",
    "    path('admin/', admin.site.urls),\n",
    "    path('app_name/', include('app_name.urls')), # new\n",
    "]\n",
    "urlpatterns = [\n",
    "    path('admin/', admin.site.urls),\n",
    "    path('', include('app_name.urls')), # new\n",
    "]\n",
    "\n",
    "</pre>"
   ]
  },
  {
   "cell_type": "markdown",
   "metadata": {},
   "source": [
    "# Introduction to the Django templates\n",
    "* A template is a file that contains the static and dynamic parts of a webpage. To generate the dynamic parts of the webpage, Django uses its specific template language called Django template language or DTL.\n",
    "* The Django template engine renders templates that contain variables, constructs, tags, and filters."
   ]
  },
  {
   "cell_type": "markdown",
   "metadata": {},
   "source": [
    "#### Variables\n",
    "* A variable is surrounded by {{ and }}. For example:\n",
    "<br>\n",
    "\n",
    "Hi {{name}}, welcome back!<br>\n",
    "o/p<br>\n",
    "Hi John, welcome back! "
   ]
  },
  {
   "cell_type": "markdown",
   "metadata": {},
   "source": [
    "* If a variable is a dictionary, you can access the items of the dictionary using the dot notation (dict_name.key).\n",
    "<pre>\n",
    "Suppose you have a person dictionary with two keys name and email:\n",
    "\n",
    "person = {'name': 'John', 'email': 'john@pythontutorial.net'}\n",
    "\n",
    "… you can access the values of the name and email keys of the person dictionary in the template like this:\n",
    "\n",
    "{{ person.name }}\n",
    "{{ person.email }}</pre>"
   ]
  },
  {
   "cell_type": "markdown",
   "metadata": {},
   "source": [
    "#### Tags\n",
    "Tags are responsible for outputting contents, serving a control structure if-else, for-loop, and getting data from a database.\n",
    "\n",
    "Tags are surrounded by {% and %}. For example:"
   ]
  },
  {
   "cell_type": "markdown",
   "metadata": {},
   "source": [
    "<pre>\n",
    "{% if user.is_authenticated %}\n",
    "Hi {{user.username}} \n",
    "{% endif %}\n",
    "\n",
    "\n",
    "Technically, when the template system encounters a dot, it tries the following\n",
    "lookups, in this order:\n",
    "\n",
    "* Dictionary lookup\n",
    "* Attribute or method lookup\n",
    "* Numeric index lookup\n",
    "</pre>"
   ]
  },
  {
   "cell_type": "markdown",
   "metadata": {},
   "source": [
    "#### Filters\n",
    "<pre>\n",
    "\n",
    "You can modify variables for display by using filters.\n",
    "\n",
    "Filters look like this: {{ name|lower }}. This displays the value of the \n",
    "{{name }} variable after being filtered through the lower filter, which \n",
    "converts text to lowercase. Use a pipe (|) to apply a filter.\n",
    "\n",
    "\n",
    "Filters can be “chained.” The output of one filter is applied to the next. \n",
    "{{text|escape|linebreaks }} is a common idiom for escaping text contents,\n",
    "then converting line breaks to <p> tags.\n",
    "\n",
    "\n",
    "Some filters take arguments. A filter argument looks like this:\n",
    "{{ bio|truncatewords:30 }}. This will display the first 30 words of the bio\n",
    " variable.\n",
    "\n",
    "\n",
    "Filter arguments that contain spaces must be quoted; for example, to join a \n",
    "list with commas and spaces you’d use {{ list|join:\", \" }}.\n",
    "\n",
    "\n",
    "</pre>"
   ]
  },
  {
   "cell_type": "markdown",
   "metadata": {},
   "source": [
    "#### Comments\n",
    "The comments will look like this:<br>\n",
    "{# This is a comment in the template #}"
   ]
  },
  {
   "cell_type": "markdown",
   "metadata": {},
   "source": [
    "<br><br><br><br>\n",
    "# Django template examples"
   ]
  },
  {
   "cell_type": "markdown",
   "metadata": {},
   "source": [
    "First, create a new directory called templates inside the app_name directory<br>\n",
    "the directory inside the templates directory must have the same name as the application name."
   ]
  },
  {
   "cell_type": "markdown",
   "metadata": {},
   "source": [
    "create templates folder inside app_name folder and then create one more folder name same as app name and then create the templates thats html documents "
   ]
  },
  {
   "cell_type": "markdown",
   "metadata": {},
   "source": [
    "open the views.py file and change the home() view functions to the following:\n",
    "<pre>\n",
    "from django.shortcuts import render\n",
    "\n",
    "def home(request):\n",
    "    return render(request, 'app_name/home.html')\n",
    "</pre>"
   ]
  },
  {
   "cell_type": "markdown",
   "metadata": {},
   "source": [
    "* The render() function accepts an HttpRequest object and a path to a template. It renders the template and returns an HttpResponse object."
   ]
  },
  {
   "cell_type": "markdown",
   "metadata": {},
   "source": [
    "<pre>\n",
    "books = [\n",
    "    {\n",
    "        'title': 'Beautiful is better than ugly',\n",
    "        'author': 'John Doe',\n",
    "        'content': 'Beautiful is better than ugly',\n",
    "        'published_at': 'October 1, 2022'\n",
    "    },\n",
    "    {\n",
    "        'title': 'Explicit is better than implicit',\n",
    "        'author': 'Jane Doe',\n",
    "        'content': 'Explicit is better than implicit',\n",
    "        'published_at': 'October 1, 2022'\n",
    "    }\n",
    "]\n",
    "def home(request):\n",
    "    context = {\n",
    "        'books': books\n",
    "    }\n",
    "    return render(request, 'app_name/home.html', context)\n",
    "</pre>"
   ]
  },
  {
   "cell_type": "markdown",
   "metadata": {},
   "source": [
    "* The following home.html template that displays the posts:\n",
    "<pre>\n",
    "    <!DOCTYPE html>\n",
    "<html lang=\"en\">\n",
    "<head>\n",
    "\t<meta charset=\"UTF-8\" />\n",
    "\t<meta name=\"viewport\" content=\"width=device-width, initial-scale=1.0\" />\n",
    "\t<title>Blog</title>\n",
    "</head>\n",
    "<body>  \n",
    "\t{% for book in books %}\n",
    "\t\t<h2>{{ book.title }}</h2>\n",
    "\t\t<small>Published on {{ book.published_at }} by {{ book.author}}</small>\n",
    "\t\t<p>{{ book.content }}</p>\n",
    "\t{% endfor %}\n",
    "</body>\n",
    "</html>\n",
    "</pre>"
   ]
  },
  {
   "cell_type": "markdown",
   "metadata": {},
   "source": [
    "### Creating a base template"
   ]
  },
  {
   "cell_type": "markdown",
   "metadata": {},
   "source": [
    "First, create a new templates directory in the project directory "
   ]
  },
  {
   "cell_type": "markdown",
   "metadata": {},
   "source": [
    "<pre>\n",
    "├── app_name\n",
    "├── db.sqlite3\n",
    "├── django_project\n",
    "├── manage.py\n",
    "├── templates\n",
    "└── users\n",
    "\n",
    "</pre>"
   ]
  },
  {
   "cell_type": "markdown",
   "metadata": {},
   "source": [
    "<pre>\n",
    "TEMPLATES = [\n",
    "    {\n",
    "        'BACKEND': 'django.template.backends.django.DjangoTemplates',\n",
    "        'DIRS': [BASE_DIR / 'templates' ],\n",
    "        'APP_DIRS': True,\n",
    "        'OPTIONS': {\n",
    "            'context_processors': [\n",
    "                'django.template.context_processors.debug',\n",
    "                'django.template.context_processors.request',\n",
    "                'django.contrib.auth.context_processors.auth',\n",
    "                'django.contrib.messages.context_processors.messages',\n",
    "            ],\n",
    "        },\n",
    "    },\n",
    "]\n",
    "</pre>\n"
   ]
  },
  {
   "cell_type": "markdown",
   "metadata": {},
   "source": [
    "Then, create base.html in the templates directory with the following code:"
   ]
  },
  {
   "cell_type": "markdown",
   "metadata": {},
   "source": [
    "<!DOCTYPE html>\n",
    "<html lang=\"en\">\n",
    "    <head>\n",
    "        <meta charset=\"UTF-8\" />\n",
    "        <meta name=\"viewport\" content=\"width=device-width, initial-scale=1.0\" />\n",
    "        <title>{% if title %} {{title}} {% else %} Blog {% endif %}</title>\n",
    "    </head>\n",
    "    <body>\n",
    "        {% block content %}\n",
    "        {% endblock %}\n",
    "    </body>\n",
    "</html>\n"
   ]
  },
  {
   "cell_type": "markdown",
   "metadata": {},
   "source": [
    "The base.html is served as the base template for other templates. The name of the base template can be anything like main.html."
   ]
  },
  {
   "cell_type": "markdown",
   "metadata": {},
   "source": [
    "After that, change the home.html template inside the templates/app_name directory as follows:"
   ]
  },
  {
   "cell_type": "markdown",
   "metadata": {},
   "source": [
    "{% extends 'base.html' %}\n",
    "\n",
    "{% block content %}\n",
    "        <h1>My Posts</h1>\n",
    "\t{% for book in books%}\n",
    "\t<h2>{{ book.title }}</h2>\n",
    "\t<small>Published on {{ book.published_at }} by {{ book.author}}</small>\n",
    "\t<p>{{ book.content }}</p>\n",
    "\t{% endfor%}\n",
    "{% endblock %}"
   ]
  },
  {
   "cell_type": "markdown",
   "metadata": {},
   "source": [
    "### Configure static files"
   ]
  },
  {
   "cell_type": "markdown",
   "metadata": {},
   "source": [
    "The static files are CSS, JavaScript, and image files that you use in the templates. To use the static files in the templates, you follow these steps:"
   ]
  },
  {
   "cell_type": "markdown",
   "metadata": {},
   "source": [
    "* First, create a static directory inside the project directory:"
   ]
  },
  {
   "cell_type": "markdown",
   "metadata": {},
   "source": [
    "* The project directory will look like this:\n",
    "<pre>\n",
    "├── app_name\n",
    "├── db.sqlite3\n",
    "├── manage.py\n",
    "├── mysite\n",
    "├── static\n",
    "└── templates\n",
    "</pre>"
   ]
  },
  {
   "cell_type": "markdown",
   "metadata": {},
   "source": [
    "* Second, set the STATICFILES_DIRS in the settings.py after the STATIC_URL file so that Django can find the static files in the static directory:"
   ]
  },
  {
   "cell_type": "markdown",
   "metadata": {},
   "source": [
    "STATIC_URL = 'static/'<br>\n",
    "STATICFILES_DIRS = [BASE_DIR / 'static']"
   ]
  },
  {
   "cell_type": "markdown",
   "metadata": {},
   "source": [
    "* Third, create three directories js, css, and images directory inside the static directory:"
   ]
  },
  {
   "cell_type": "markdown",
   "metadata": {},
   "source": [
    "<pre>\n",
    "├── static\n",
    "|  ├── css\n",
    "|  ├── images\n",
    "|  └── js\n",
    "</pre>"
   ]
  },
  {
   "cell_type": "markdown",
   "metadata": {},
   "source": [
    "* Fourth, create style.css inside the CSS directory with the following contents.\n",
    "<pre>\n",
    "h1{\n",
    "\tcolor:#0052EA\n",
    "}\n",
    "\n",
    "form {\n",
    "\tmax-width: 400px;\n",
    "}\n",
    "label, input, textarea, select{\n",
    "\tdisplay:block;\n",
    "\twidth:100%;\n",
    "}\n",
    "\n",
    "input[type=\"submit\"]{\n",
    "\tdisplay:inline-block;\n",
    "\twidth:auto;\n",
    "}\n",
    "\n",
    ".errorlist {\n",
    "\tpadding:0;\n",
    "\tmargin:0;\n",
    "}\n",
    ".errorlist li{\n",
    "\tcolor:red;\n",
    "\tlist-style:none;\n",
    "}\n",
    "\n",
    ".alert{\n",
    "\tpadding:0.5rem;\t\n",
    "}\n",
    "\n",
    ".alert-success{\n",
    "\tbackground-color: #dfd\n",
    "}\n",
    ".alert-error{\n",
    "\tbackground-color:#ba2121;\n",
    "\tcolor:#fff;\n",
    "}\n",
    "</pre>"
   ]
  },
  {
   "cell_type": "markdown",
   "metadata": {},
   "source": [
    "* Fifth, create the app.js inside the js directory with the following code:"
   ]
  },
  {
   "cell_type": "markdown",
   "metadata": {},
   "source": [
    "setTimeout(() => {\n",
    "  alert('Welcome to my site!');\n",
    "}, 3000);\n"
   ]
  },
  {
   "cell_type": "markdown",
   "metadata": {},
   "source": [
    "* Sixth, edit the base.html template to load the style.css and app.js files:"
   ]
  },
  {
   "cell_type": "markdown",
   "metadata": {},
   "source": [
    "{%load static %}\n",
    "<!DOCTYPE html>\n",
    "<html lang=\"en\">\n",
    "  <head>\n",
    "    <meta charset=\"UTF-8\" />\n",
    "    <meta name=\"viewport\" content=\"width=device-width, initial-scale=1.0\" />\n",
    "    <link rel=\"stylesheet\" href=\"{% static 'css/style.css' %}\" />\n",
    "    <script src=\"{% static 'js/app.js' %}\" defer></script>\n",
    "    <title>My Site</title>\n",
    "  </head>\n",
    "  <body>\n",
    "    {%block content%} \n",
    "    {%endblock content%}\n",
    "  </body>\n",
    "</html>\n"
   ]
  },
  {
   "cell_type": "markdown",
   "metadata": {},
   "source": [
    "<br><br><br><br>\n",
    "# Introduction to Django models"
   ]
  },
  {
   "cell_type": "markdown",
   "metadata": {},
   "source": [
    "* In Django, a model is a subclass of the django.db.models.Model class. A model contains one or more fields and methods that manipulate the fields."
   ]
  },
  {
   "cell_type": "markdown",
   "metadata": {},
   "source": [
    "* Essentially, a Django model maps to a single table in the database in which each field of the model represents a column in the table.\n",
    "\n",
    "* An application may have zero or more models stored in models.py module."
   ]
  },
  {
   "cell_type": "markdown",
   "metadata": {},
   "source": [
    "list of field types available in Django models:\n",
    "\n",
    "AutoField\n",
    "BigAutoField\n",
    "BigIntegerField\n",
    "BinaryField\n",
    "BooleanField\n",
    "CharField\n",
    "DateField\n",
    "DateTimeField\n",
    "DecimalField\n",
    "DurationField\n",
    "EmailField\n",
    "FileField\n",
    "FloatField\n",
    "ImageField\n",
    "IntegerField\n",
    "GenericIPAddressField\n",
    "NullBooleanField\n",
    "PositiveIntegerField\n",
    "PositiveSmallIntegerField\n",
    "SlugField\n",
    "SmallAutoField\n",
    "SmallIntegerField\n",
    "TextField\n",
    "TimeField\n",
    "URLField\n",
    "UUIDField\n",
    "ForeignKey\n",
    "ManyToManyField\n",
    "OneToOneField"
   ]
  },
  {
   "cell_type": "markdown",
   "metadata": {},
   "source": [
    "In Django models, each field type comes with a set of options that you can use to customize its behavior.\n",
    "\n",
    "null: If set to True, the field is allowed to be NULL in the database.\n",
    "blank: If set to True, the field is allowed to be blank in forms.\n",
    "default: The default value for the field.\n",
    "verbose_name: A human-readable name for the field.\n",
    "help_text: Additional text to display as help for the field.\n",
    "primary_key: If set to True, this field will be the primary key for the model.\n",
    "unique: If set to True, this field must be unique throughout the table.\n",
    "choices: A list of choices for the field.\n",
    "max_length: The maximum length of the field (for CharField).\n",
    "auto_now: Automatically set the field to the current date and time every time the object is saved.\n",
    "auto_now_add: Automatically set the field to the current date and time when the object is first created."
   ]
  },
  {
   "cell_type": "markdown",
   "metadata": {},
   "source": [
    "python manage.py makemigrations \n",
    "\n",
    "#this command makes the migration file every whenever their is change in models\n",
    "\n",
    "\n",
    "\n",
    "python manage.py sqlmigrate app_name 0001\n",
    "\n",
    "#this command shows the SQL query which is going to execute at time when we call migrate command\n",
    "\n",
    "\n",
    "\n",
    "python manage.py migrate \n",
    "\n",
    "#this is final command to execute the SQL Query in DB\n",
    "\n",
    "\n",
    "\n",
    "#To list the project migrations and their status, you use the showmigrations command:\n",
    "\n",
    "python manage.py showmigrations\n"
   ]
  },
  {
   "cell_type": "markdown",
   "metadata": {},
   "source": [
    "# Admin panel"
   ]
  },
  {
   "cell_type": "markdown",
   "metadata": {},
   "source": [
    "When you create a new project using the startproject command, Django automatically generates the admin page for managing models including creating, reading, updating, and deleting which is often known as CRUD.\n",
    "\n",
    "To access the admin page, you navigate to the URL http://127.0.0.1/admin/. It’ll open the login page:\n",
    "\n",
    "The Django admin requires an account to log in. Therefore, you need to create a user using a Django command."
   ]
  },
  {
   "cell_type": "markdown",
   "metadata": {},
   "source": [
    "#### Creating a superuser account"
   ]
  },
  {
   "cell_type": "markdown",
   "metadata": {},
   "source": [
    "python manage.py createsuperuser"
   ]
  },
  {
   "cell_type": "markdown",
   "metadata": {},
   "source": [
    "And login using the created user, you’ll see the default admin page that manages users & groups:"
   ]
  },
  {
   "cell_type": "markdown",
   "metadata": {},
   "source": [
    "To show the App_name model on the admin page, you need to register it in the admin.py of the blog application:"
   ]
  },
  {
   "cell_type": "markdown",
   "metadata": {},
   "source": [
    "from django.contrib import admin\n",
    "from .models import App_name\n",
    "\n",
    "\n",
    "admin.site.register(App_name)\n",
    "\n"
   ]
  },
  {
   "cell_type": "markdown",
   "metadata": {},
   "source": [
    "python manage.py shell"
   ]
  },
  {
   "cell_type": "markdown",
   "metadata": {},
   "source": [
    "### Django Form"
   ]
  },
  {
   "cell_type": "markdown",
   "metadata": {},
   "source": [
    "Steps"
   ]
  },
  {
   "cell_type": "markdown",
   "metadata": {},
   "source": [
    "Handling forms involves very complex logic:\n",
    "\n",
    "* Prepare an HTML form.\n",
    "* Validate fields in the browser using JavaScript or built-in HTML5 validation.\n",
    "* Receive the values in the server.\n",
    "* Validate fields in the server.\n",
    "* Processing form values like saving them into the database if the form is valid\n",
    "* Rerender the form with old values and an error message if the form is invalid.\n"
   ]
  },
  {
   "cell_type": "markdown",
   "metadata": {},
   "source": [
    "Django forms simplify and automate almost all of the above steps."
   ]
  },
  {
   "cell_type": "markdown",
   "metadata": {},
   "source": [
    "All forms in Django inherit from the django.forms.Form class. The ModelForm class allows you to create a form that associates with a model ."
   ]
  },
  {
   "cell_type": "markdown",
   "metadata": {},
   "source": [
    "#### Defining a form\n",
    "First, create a new file forms.py in the App_name application’s directory.\n",
    "\n",
    "Second, define a new form  that inherits from the ModelForm class:"
   ]
  },
  {
   "cell_type": "markdown",
   "metadata": {},
   "source": [
    "from django.forms import ModelForm\n",
    "from .models import Product\n",
    "\n",
    "class ProductForm(ModelForm):\n",
    "    class Meta:\n",
    "        model = Prouct\n",
    "        fields = ['name','price']       "
   ]
  },
  {
   "cell_type": "markdown",
   "metadata": {},
   "source": [
    "Third, define a route that displays the ProductForm"
   ]
  },
  {
   "cell_type": "markdown",
   "metadata": {},
   "source": [
    "Fourth, define create_product() function that displays the form:"
   ]
  },
  {
   "cell_type": "markdown",
   "metadata": {},
   "source": [
    "Fifth, create the post_form.html template:"
   ]
  },
  {
   "cell_type": "markdown",
   "metadata": {},
   "source": [
    "# Static Files"
   ]
  },
  {
   "cell_type": "markdown",
   "metadata": {},
   "source": [
    "#### add this in settings.py file\n"
   ]
  },
  {
   "cell_type": "markdown",
   "metadata": {},
   "source": [
    "STATIC_URL = 'static/' <br>\n",
    "STATICFILES_DIRS = [BASE_DIR / 'static']\n"
   ]
  },
  {
   "cell_type": "markdown",
   "metadata": {},
   "source": [
    "#### Create one Static folder \n"
   ]
  },
  {
   "cell_type": "markdown",
   "metadata": {},
   "source": [
    "<pre>\n",
    "├── static\n",
    "|  ├── css\n",
    "|  ├── images\n",
    "|  └── js\n",
    "</pre>"
   ]
  },
  {
   "cell_type": "markdown",
   "metadata": {},
   "source": [
    "add this as top in base.html file<br>\n",
    "{%load static %}<br>\n",
    "\n",
    "\n",
    "after that \n",
    "add this link tag in head tag of base.html<br>\n",
    "\n",
    "\n",
    " < link rel=\"stylesheet\" href=\"{% static 'css/style.css' %}\" />\n",
    " <img src={% static 'image/one.jpeg' %}>"
   ]
  },
  {
   "cell_type": "markdown",
   "metadata": {},
   "source": [
    "# Media File\n"
   ]
  },
  {
   "cell_type": "markdown",
   "metadata": {},
   "source": [
    "step 1:\n",
    "\n",
    "in form tag  add <br>\n",
    " enctype=\"multipart/form-data\""
   ]
  },
  {
   "cell_type": "markdown",
   "metadata": {},
   "source": [
    "step 2:\n",
    "\n",
    "in setting.py \n",
    "\n",
    "\n",
    "set \n",
    "\n",
    "\n",
    "MEDIA_URL = '/media/'\n",
    "\n",
    "\n",
    "MEDIA_ROOT = os.path.join(BASE_DIR, 'media')\n"
   ]
  },
  {
   "cell_type": "markdown",
   "metadata": {},
   "source": [
    "step 3\n",
    "\n",
    "in urls.py\n",
    "\n",
    "<pre>\n",
    "\n",
    "from django.conf import settings\n",
    "from django.conf.urls.static import static\n",
    "\n",
    "if settings.DEBUG:\n",
    "  urlpatterns += static(settings.MEDIA_URL, document_root=settings.MEDIA_ROOT)\n",
    "  </pre>\n"
   ]
  },
  {
   "cell_type": "markdown",
   "metadata": {},
   "source": [
    "pip install pillow"
   ]
  },
  {
   "cell_type": "markdown",
   "metadata": {},
   "source": [
    "step 5:\n",
    "\n",
    "in product model\n",
    "\n",
    "    image = models.ImageField(upload_to='images/product_image',default='images/product_image/p1.jpeg')\n"
   ]
  },
  {
   "cell_type": "markdown",
   "metadata": {},
   "source": [
    "\n",
    " </img src=\"{{product.image.url}}\" alt=\"no image\">\n"
   ]
  },
  {
   "cell_type": "markdown",
   "metadata": {},
   "source": [
    "# List View"
   ]
  },
  {
   "cell_type": "markdown",
   "metadata": {},
   "source": [
    "from django.views.generic.list import ListView<br>\n",
    "from .models import Item"
   ]
  },
  {
   "cell_type": "markdown",
   "metadata": {},
   "source": [
    "<pre>\n",
    "class ItemList(ListView):\n",
    "    model = Item\n",
    "    context_object_name = 'items'\n",
    "</pre>"
   ]
  },
  {
   "cell_type": "markdown",
   "metadata": {},
   "source": [
    "context_object_name specifies the variable name of the model list in the template. By default, Django uses object_list."
   ]
  },
  {
   "cell_type": "markdown",
   "metadata": {},
   "source": [
    "By convention, the ItemList class will load the app_name/item_list.html template. The template name follows this convention:"
   ]
  },
  {
   "cell_type": "markdown",
   "metadata": {},
   "source": [
    "app/model_list.html"
   ]
  },
  {
   "cell_type": "markdown",
   "metadata": {},
   "source": [
    "to set a different name, you can use the template_name attribute."
   ]
  },
  {
   "cell_type": "markdown",
   "metadata": {},
   "source": [
    "<pre>\n",
    "from .views import home, ItemList\n",
    "\n",
    "urlpatterns = [\n",
    "    path('', home, name='home'),\n",
    "    path('items/', ItemList.as_view(),name='items'),\n",
    "]\n",
    "</pre>"
   ]
  },
  {
   "cell_type": "markdown",
   "metadata": {},
   "source": [
    "Note that you can specify the attributes of the ItemList class in the as_view() method. For example, you can pass a template name to the as_view() method as follows:"
   ]
  },
  {
   "cell_type": "markdown",
   "metadata": {},
   "source": [
    "path('items/', ItemList.as_view(template_name='item.html'),name='items'),"
   ]
  },
  {
   "cell_type": "markdown",
   "metadata": {},
   "source": [
    "# Detail View"
   ]
  },
  {
   "cell_type": "markdown",
   "metadata": {},
   "source": [
    "from django.views.generic.detail import DetailView\n",
    "\n",
    "path('item/<int:pk>/',ItemDetail.as_view(),name='item'),\n",
    "\n",
    "\n",
    "{% url 'item' item.id %}"
   ]
  },
  {
   "cell_type": "markdown",
   "metadata": {},
   "source": [
    "# Create View\n"
   ]
  },
  {
   "cell_type": "markdown",
   "metadata": {},
   "source": [
    "from django.views.generic.edit import CreateView\n",
    "\n"
   ]
  },
  {
   "cell_type": "markdown",
   "metadata": {},
   "source": [
    "# ORM\n"
   ]
  },
  {
   "cell_type": "markdown",
   "metadata": {},
   "source": [
    "\n",
    "python manage.py shell_plus --print-sql\n",
    "\n",
    "\n",
    "select all the records\n",
    "var = model.objects.all()                  queryset as o/p\n",
    "\n",
    "select all record with where condition\n",
    "var = model.objects.filter(name='')       queryset as o/p\n",
    "opposite of filter is exclude()\n",
    "\n",
    "select perticular record\n",
    "var = model.objects.get(id=3)              object as o/p\n",
    "var = model.objects.filter(id=3).first()              object as o/p\n",
    "\n",
    "\n",
    "\n",
    "to apply limit \n",
    "model.objects.all()[10:20]\n",
    "\n",
    "in  operator #  select * from Table where id in (10,20,30,40,50);\n",
    "filter(feildName__in = (10,20,30))\n",
    "filter(~Q(feildName__in = (10,20,30)))\n",
    "\n",
    "range or Between Operator\n",
    "filter(feildName__range = (10,20))    #in SQL it is Between\n",
    "filter(~Q(feildName__range = (10,20)))\n",
    "\n",
    "to get Null and Not Null value\n",
    "filter(fieldName__isnull=True)\n",
    "filter(fieldName__isnull=False)\n",
    "\n",
    "like operator\n",
    "% zero or more\n",
    "_ one character\n",
    "A%  \n",
    "model.objects.filter(fieldName__startswith='substring')\n",
    "model.objects.filter(fieldName__istartswith='substring')\n",
    "model.objects.filter(fieldName__endswith='substring')\n",
    "model.objects.filter(fieldName__iendsswith='substring')\n",
    "model.objects.filter(fieldName__contains='substring')\n",
    "model.objects.filter(fieldName__icontains='substring')\n",
    "\n",
    "\n",
    "\n",
    "on_delete options\n",
    "        CASCADE\n",
    "\t\tPROTECT\n",
    "\t\tSET_NULL\n",
    "\t\tSET_DEFAULT\n",
    "\t\tDO_NOTHING"
   ]
  },
  {
   "cell_type": "markdown",
   "metadata": {},
   "source": [
    "####  django ORM\n",
    "\n",
    "\tpython manage.py shell_plus --print-sql\n",
    "\n",
    "\tobject_name=model_name(att='val',att='val'...)\n",
    "\tobject_name.save() \n",
    "\n",
    "\n",
    "\n",
    "\tmodel_name.objects.all()\n",
    "\n",
    "\tmodel_name.objects.filter(attribute=''value')# returns queryset\n",
    "\topposite of filter is exclude()\n",
    "\t.first()\n",
    "\tmodel_name.objects.get(att='value')# returns single object\n",
    "\n",
    "\tmodel_name.objects.all().delete()\n",
    "\tmodel_name.objects.get().delete()\n",
    "\n",
    "\n",
    "\n",
    "#### One TO One Feild\n",
    "\n",
    "\n",
    "\tOneToOneField(to, on_delete, parent_link=False, **options)\n",
    "\n",
    "\n",
    "\ton_delete Options\n",
    "\n",
    "\t\tCASCADE\n",
    "\t\tPROTECT\n",
    "\t\tRESTRICT\n",
    "\t\tSET_NULL\n",
    "\t\tSET_DEFAULT\n",
    "\t\tDO_NOTHING\n",
    "\n",
    "\t\tCASCADE_ADMIN\n",
    "\n",
    "\n",
    "#### Select Related \n",
    "\n",
    "\tmodel_name.objects.select_related('OneToOneFeild_name').all()\n",
    "\t#it apply the left outer join with related feild\n",
    "\n",
    "\tby default the null is set to False\n",
    "\tso we have to specify the default value to enter in DB\n",
    "\tor we can specify the null = True or blank = True\n",
    "\n",
    "\n",
    "#### One to Many\n",
    "\n",
    "\t# to get the child object from the parent we can use \n",
    "\tchild_set\n",
    "\tFif, get all employees of a department using use the employee_set attribute like this:\n",
    "\n",
    "\t>>> d.employee_set.all()\n",
    "\t<QuerySet [<Employee: John Doe>, <Employee: Jane Doe>]>\n",
    "\n",
    "\n",
    "\tNote that we did not define the employee_set property in\n",
    "\tthe Department model. Internally, Django automatically \n",
    "\tadded the employee_set property to the Department model \n",
    "\twhen we defined the one-to-many relationship using the\n",
    "\tForeignKey.\n",
    "\n",
    "\n",
    "\n",
    "\t>>> Employee.objects.select_related('department').all()\n",
    "\tthis apply the inner join with parent table\n",
    "\n",
    "\n",
    "#### Many to Many relation \n",
    "\n",
    "\twe use  composite primary key. meaning we combine two foriegn key to define primary key\n",
    "\twhich is inside the third table to deal with manyToMany relation in RDBMS\n",
    "\n",
    "\tbut django create the id column and set it to primary \n",
    "\tand insted of creating composite primary it create unique constraint \n",
    "\n",
    "\tTo create a many-to-many relationship in Django, you use the ManyToManyField.\n",
    "\t\t.add()\n",
    "\t\t.remove()\n",
    "\t\tthese fuction can be use to add the data and to remove the data in third table by any one the connnected table\n",
    "\n",
    "\n",
    "\n",
    "\n",
    "#### Many to Many Feild with Through\n",
    "\t\n",
    "\tclass Employee(models.Model):\n",
    "   \t# ...\n",
    "\n",
    "\tclass Job(models.Model):\n",
    "\t\ttitle = models.CharField(max_length=255)\n",
    " \t\temployees = models.ManyToManyField(Employee, through='Assignment')\n",
    "\n",
    "    \t\tdef __str__(self):\n",
    "        \t\treturn self.title\n",
    "\n",
    "\n",
    "\tclass Assignment(models.Model):\n",
    "    \t\temployee = models.ForeignKey(Employee, on_delete=models.CASCADE)\n",
    "    \t\tposition = models.ForeignKey(Job, on_delete=models.CASCADE)\n",
    "    \t\tbegin_date = models.DateField()\n",
    "    \t\tend_date = models.DateField(default=date(9999, 12, 31))\n",
    "\n",
    "\n",
    "\n",
    "\n",
    "#### Limit Offset\n",
    "\tuse [] at the end of queryset \n",
    "\t[:10] top 10 recods\n",
    "\t[10:20] skip 10 records and then fetch 10 records\n",
    "\n",
    "\n",
    "\n",
    "\n",
    "\n",
    "\n",
    "####order_by\n",
    "\n",
    "\n",
    "\tin models \n",
    "\t\tclass Meta:\n",
    "        \t\tordering = [F('first_name').asc(nulls_last=True)]\n",
    "\n",
    "\t\tclass Meta:\n",
    "        \t\tordering = ['-first_name', 'last_name']\n",
    "\t.order_by('first_name','last_name')\n",
    "\t.order_by('-first_name','last_name')\n",
    "\n",
    "\n",
    "\n",
    "\n",
    "\n",
    "\n",
    "\n",
    "\tfilter(~Q(id__range=(1,5)))\n",
    "\tUse the Django exists() method to check if a QuerySet contains any rows.\n",
    "\n",
    "\n",
    "#### Like \n",
    "\n",
    "\n",
    "\tfield_name__startswith='substring'\tfield_name LIKE '%substring'\treturn True if field_name starts with a substring.\n",
    "\tfield_name__istartswith='substring'\tUPPER(field_name) LIKE UPPER('%substring')\treturn True if field_name starts with a substring case-insensitively\n",
    "\tfield_name__endswith='substring'\tfield_name LIKE 'substring%'\treturn True if field_name ends with a substring.\n",
    "\tfield_name__iendswith='substring'\tUPPER(field_name) LIKE UPPER('substring%')\treturn True if field_name ends with a substring case-insensitively\n",
    "\tfield_name__contains='substring'\tfield_name LIKE '%substring%'\treturn True if field_name contains a substring.\n",
    "\tfield_name__icontains='substring'\tUPPER(field_name) LIKE UPPER('%substring%')\treturn True if field_name contains a substring case insensitively.\n",
    "\n",
    "\n",
    "#### In \n",
    "\n",
    "\n",
    "\n",
    "\n",
    "\tin  operator #  select * from Table where id in (10,20,30,40,50);\n",
    "\tfilter(feildName__in = (10,20,30))\n",
    "\tfilter(~Q(feildName__in = (10,20,30)))\n",
    "\n",
    "\n",
    "\n",
    "\n",
    "####range or Between Operator\n",
    "\tfilter(feildName__range = (10,20))    #in SQL it is Between\n",
    "\tfilter(~Q(feildName__range = (10,20)))\n",
    "\n",
    "\n",
    "#### Null Not Null\n",
    "\n",
    "\tto get Null and Not Null value\n",
    "\tfilter(fieldName__isnull=True)\n",
    "\tfilter(fieldName__isnull=False)\n",
    "\n",
    "\n",
    "#### Exists\n",
    "\tif query_set.exists():\n",
    "  \t\t print('the queryset has at least one object')\n",
    "\tIn this example, the exists() method returns True. It selects only the\n",
    "\t first row to determine whether the QuerySet contains any row.\n",
    "\n",
    "\tIf you do not use the exists() method, the QuerySet will get all the rows \n",
    "\tfrom the hr_employee table:\n",
    "\n",
    "\tEmployee.objects.filter(first_name__startswith='J').exists()\n",
    "\n",
    "\n",
    "## Aggregate methods \n",
    "\tEmployee.objects.count()\n",
    "\tEmployee.objects.aggregate(Max('salary'))\n",
    "\tEmployee.objects.aggregate(Min('salary')) \n",
    "\tEmployee.objects.aggregate(Avg('salary'))\n",
    "\tEmployee.objects.aggregate(Sum('salary')) \n",
    "\n",
    "\n",
    "\n",
    "\n",
    "#### Django Group By with Sum example\n",
    "\tSimilarly, you can use the Sum() aggregate to calculate the total salary of employees in each department:\n",
    "\n",
    "\t>>> (Employee.objects\n",
    "\t...     .values('department')\n",
    "\t...     .annotate(total_salary=Sum('salary'))\n",
    "\t...     .order_by('department')\n",
    "\t...  )\n",
    "\n",
    "\n",
    "\n",
    "\n",
    "\n",
    "#### Django group by with having\n",
    "\tTo apply a condition to the groups, you use the filter() method. For example, the following uses the filter() method to get the department with head counts are more than 30:\n",
    "\n",
    "\t>>> (Department.objects\n",
    "\t...     .values('name')\n",
    "\t...     .annotate(\n",
    "\t...         head_count=Count('employee')\n",
    "\t...     )\n",
    "\t...     .filter(head_count__gt=30)\n",
    "\t...  )"
   ]
  },
  {
   "cell_type": "markdown",
   "metadata": {},
   "source": [
    "## create custom template tags and filters"
   ]
  },
  {
   "cell_type": "markdown",
   "metadata": {},
   "source": [
    " You can extend the template engine by defining custom tags and filters using Python, and then make them available to your templates using the {% load %} tag."
   ]
  },
  {
   "cell_type": "markdown",
   "metadata": {},
   "source": [
    "The app should contain a templatetags directory, at the same level as models.py, views.py, etc. If this doesn’t already exist, create it - don’t forget the __init__.py file to ensure the directory is treated as a Python package."
   ]
  },
  {
   "cell_type": "markdown",
   "metadata": {},
   "source": [
    "Your custom tags and filters will live in a module inside the templatetags directory."
   ]
  },
  {
   "cell_type": "markdown",
   "metadata": {},
   "source": [
    "polls/\n",
    "    __init__.py\n",
    "    models.py\n",
    "    templatetags/\n",
    "        __init__.py\n",
    "        poll_extras.py\n",
    "    views.py"
   ]
  },
  {
   "cell_type": "markdown",
   "metadata": {},
   "source": [
    "use this load tag in template where you want your new custom tag and filter "
   ]
  },
  {
   "cell_type": "markdown",
   "metadata": {},
   "source": [
    "{% load poll_extras %}"
   ]
  },
  {
   "cell_type": "markdown",
   "metadata": {},
   "source": [
    "inside your custome_filter.py file"
   ]
  },
  {
   "cell_type": "markdown",
   "metadata": {},
   "source": [
    "from django import template\n",
    "\n",
    "register = template.Library()"
   ]
  },
  {
   "cell_type": "markdown",
   "metadata": {},
   "source": [
    "def cut(value, arg):\n",
    "    \"\"\"Removes all values of arg from the given string\"\"\"\n",
    "    return value.replace(arg, \"\")"
   ]
  },
  {
   "cell_type": "markdown",
   "metadata": {},
   "source": [
    "{{ somevariable|cut:\"0\" }}"
   ]
  },
  {
   "cell_type": "markdown",
   "metadata": {},
   "source": [
    "def lower(value):  # Only one argument.\n",
    "    \"\"\"Converts a string into all lowercase\"\"\"\n",
    "    return value.lower()"
   ]
  },
  {
   "cell_type": "markdown",
   "metadata": {},
   "source": [
    "### Registering custom filters"
   ]
  },
  {
   "cell_type": "markdown",
   "metadata": {},
   "source": [
    "django.template.Library.filter()\n",
    "\n",
    "option 1:\n",
    "register.filter(\"cut\", cut)\n",
    "register.filter(\"lower\", lower)\n",
    "\n",
    "\n",
    "The Library.filter() method takes two arguments:\n",
    "\n",
    "The name of the filter – a string.\n",
    "The compilation function – a Python function \n",
    "(not the name of the function as a string).\n",
    "\n",
    "\n",
    "option 2:\n",
    "@register.filter(name=\"cut\")\n",
    "def cut(value, arg):\n",
    "    return value.replace(arg, \"\")\n",
    "\n",
    "\n",
    "@register.filter\n",
    "def lower(value):\n",
    "    return value.lower()"
   ]
  },
  {
   "cell_type": "markdown",
   "metadata": {},
   "source": [
    "Finally, register.filter() also accepts three keyword arguments, is_safe, needs_autoescape, and expects_localtime. These arguments are described in filters and auto-escaping and filters and time zones below."
   ]
  },
  {
   "cell_type": "markdown",
   "metadata": {},
   "source": [
    "If you’re writing a template filter that only expects a string as the first argument, you should use the decorator stringfilter.\n",
    "\n",
    "\n",
    "\n",
    "from django import template\n",
    "from django.template.defaultfilters import stringfilter\n",
    "\n",
    "register = template.Library()\n",
    "\n",
    "\n",
    "@register.filter\n",
    "@stringfilter\n",
    "def lower(value):\n",
    "    return value.lower()"
   ]
  }
 ],
 "metadata": {
  "kernelspec": {
   "display_name": "env",
   "language": "python",
   "name": "python3"
  },
  "language_info": {
   "codemirror_mode": {
    "name": "ipython",
    "version": 3
   },
   "file_extension": ".py",
   "mimetype": "text/x-python",
   "name": "python",
   "nbconvert_exporter": "python",
   "pygments_lexer": "ipython3",
   "version": "3.12.2"
  }
 },
 "nbformat": 4,
 "nbformat_minor": 2
}
